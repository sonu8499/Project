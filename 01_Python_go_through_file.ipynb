{
  "cells": [
    {
      "cell_type": "markdown",
      "metadata": {
        "id": "view-in-github",
        "colab_type": "text"
      },
      "source": [
        "<a href=\"https://colab.research.google.com/github/sonu8499/Project/blob/main/01_Python_go_through_file.ipynb\" target=\"_parent\"><img src=\"https://colab.research.google.com/assets/colab-badge.svg\" alt=\"Open In Colab\"/></a>"
      ]
    },
    {
      "cell_type": "markdown",
      "metadata": {
        "id": "fmN_zs_rFauw"
      },
      "source": [
        "___\n",
        "This notebook will just go through the basic topics in order:\n",
        "\n",
        "* Data types\n",
        "    * Numbers\n",
        "    * Strings\n",
        "    * Printing\n",
        "    * Lists\n",
        "    * Dictionaries\n",
        "    * Booleans\n",
        "    * Tuples\n",
        "    * Sets\n",
        "* Comparison Operators\n",
        "* if, elif, else Statements\n",
        "* for Loops\n",
        "* while Loops\n",
        "* range()\n",
        "* list comprehension\n",
        "* functions\n",
        "* lambda expressions\n",
        "* map and filter\n",
        "* methods\n",
        "____"
      ]
    },
    {
      "cell_type": "markdown",
      "metadata": {
        "id": "OF3Rzk0ZFauz"
      },
      "source": [
        "## Data types\n",
        "\n",
        "### Numbers"
      ]
    },
    {
      "cell_type": "code",
      "execution_count": null,
      "metadata": {
        "id": "Sj27LJsvFau0",
        "outputId": "93d5633d-42f9-4132-c9c1-72d6463fb108"
      },
      "outputs": [
        {
          "data": {
            "text/plain": [
              "2"
            ]
          },
          "execution_count": 6,
          "metadata": {},
          "output_type": "execute_result"
        }
      ],
      "source": [
        "1 + 1"
      ]
    },
    {
      "cell_type": "code",
      "execution_count": null,
      "metadata": {
        "id": "pXdVBo7EFau1",
        "outputId": "23057630-e536-4492-dd6f-2900e07b8b7d"
      },
      "outputs": [
        {
          "data": {
            "text/plain": [
              "3"
            ]
          },
          "execution_count": 7,
          "metadata": {},
          "output_type": "execute_result"
        }
      ],
      "source": [
        "1 * 3"
      ]
    },
    {
      "cell_type": "code",
      "execution_count": null,
      "metadata": {
        "id": "5U9Qt-WRFau1",
        "outputId": "fa513be8-5807-4f27-e749-a64e0f204dac"
      },
      "outputs": [
        {
          "data": {
            "text/plain": [
              "0.5"
            ]
          },
          "execution_count": 8,
          "metadata": {},
          "output_type": "execute_result"
        }
      ],
      "source": [
        "1 / 2"
      ]
    },
    {
      "cell_type": "code",
      "execution_count": null,
      "metadata": {
        "id": "5HLOsy8MFau2",
        "outputId": "f1656891-c919-41ca-8cb6-412f156ab2ef"
      },
      "outputs": [
        {
          "data": {
            "text/plain": [
              "16"
            ]
          },
          "execution_count": 9,
          "metadata": {},
          "output_type": "execute_result"
        }
      ],
      "source": [
        "2 ** 4"
      ]
    },
    {
      "cell_type": "code",
      "execution_count": null,
      "metadata": {
        "id": "ChCTRAPCFau2",
        "outputId": "4e7aefed-e951-4d81-8813-707a78d701e8"
      },
      "outputs": [
        {
          "data": {
            "text/plain": [
              "0"
            ]
          },
          "execution_count": 10,
          "metadata": {},
          "output_type": "execute_result"
        }
      ],
      "source": [
        "4 % 2"
      ]
    },
    {
      "cell_type": "code",
      "execution_count": null,
      "metadata": {
        "id": "wgTjmL4EFau2",
        "outputId": "4259bd6b-1f08-4500-f6a6-2fcf28605f3f"
      },
      "outputs": [
        {
          "data": {
            "text/plain": [
              "1"
            ]
          },
          "execution_count": 11,
          "metadata": {},
          "output_type": "execute_result"
        }
      ],
      "source": [
        "5 % 2"
      ]
    },
    {
      "cell_type": "code",
      "execution_count": null,
      "metadata": {
        "id": "n-hrdgGtFau2",
        "outputId": "ca3005f3-e7f2-406f-917f-f9fc29bb6d02"
      },
      "outputs": [
        {
          "data": {
            "text/plain": [
              "50"
            ]
          },
          "execution_count": 12,
          "metadata": {},
          "output_type": "execute_result"
        }
      ],
      "source": [
        "(2 + 3) * (5 + 5)"
      ]
    },
    {
      "cell_type": "markdown",
      "metadata": {
        "id": "ucxkwVKyFau3"
      },
      "source": [
        "### Variable Assignment"
      ]
    },
    {
      "cell_type": "code",
      "execution_count": null,
      "metadata": {
        "collapsed": true,
        "id": "LXJTqaPTFau3"
      },
      "outputs": [],
      "source": [
        "# Can not start with number or special characters\n",
        "name_of_var = 2"
      ]
    },
    {
      "cell_type": "code",
      "execution_count": null,
      "metadata": {
        "collapsed": true,
        "id": "XuKWpNIWFau3"
      },
      "outputs": [],
      "source": [
        "x = 2\n",
        "y = 3"
      ]
    },
    {
      "cell_type": "code",
      "execution_count": null,
      "metadata": {
        "collapsed": true,
        "id": "_p38f8UxFau3"
      },
      "outputs": [],
      "source": [
        "z = x + y"
      ]
    },
    {
      "cell_type": "code",
      "execution_count": null,
      "metadata": {
        "id": "5dO1nMyZFau4",
        "outputId": "33276b6f-6e13-46d1-ff72-87e81c977ef1"
      },
      "outputs": [
        {
          "data": {
            "text/plain": [
              "5"
            ]
          },
          "execution_count": 16,
          "metadata": {},
          "output_type": "execute_result"
        }
      ],
      "source": [
        "z"
      ]
    },
    {
      "cell_type": "markdown",
      "metadata": {
        "id": "UaL7-IAqFau4"
      },
      "source": [
        "### Strings"
      ]
    },
    {
      "cell_type": "code",
      "execution_count": null,
      "metadata": {
        "id": "ZrwV_eroFau4",
        "outputId": "aad65373-62b1-414d-d6e9-c6456900eaf4"
      },
      "outputs": [
        {
          "data": {
            "text/plain": [
              "'single quotes'"
            ]
          },
          "execution_count": 17,
          "metadata": {},
          "output_type": "execute_result"
        }
      ],
      "source": [
        "'single quotes'"
      ]
    },
    {
      "cell_type": "code",
      "execution_count": null,
      "metadata": {
        "id": "0b4Gj_DOFau4",
        "outputId": "df0a8832-d9af-42b1-9746-e3b892f2541e"
      },
      "outputs": [
        {
          "data": {
            "text/plain": [
              "'double quotes'"
            ]
          },
          "execution_count": 18,
          "metadata": {},
          "output_type": "execute_result"
        }
      ],
      "source": [
        "\"double quotes\""
      ]
    },
    {
      "cell_type": "code",
      "execution_count": null,
      "metadata": {
        "id": "Rh8-EZ2pFau4",
        "outputId": "84e9c934-1eef-4941-d8f8-e4a2c54c566c"
      },
      "outputs": [
        {
          "data": {
            "text/plain": [
              "\" wrap lot's of other quotes\""
            ]
          },
          "execution_count": 19,
          "metadata": {},
          "output_type": "execute_result"
        }
      ],
      "source": [
        "\" wrap lot's of other quotes\""
      ]
    },
    {
      "cell_type": "markdown",
      "metadata": {
        "id": "Bwzz92A_Fau5"
      },
      "source": [
        "### Printing"
      ]
    },
    {
      "cell_type": "code",
      "execution_count": null,
      "metadata": {
        "collapsed": true,
        "id": "kVo0NIJpFau5"
      },
      "outputs": [],
      "source": [
        "x = 'hello'"
      ]
    },
    {
      "cell_type": "code",
      "execution_count": null,
      "metadata": {
        "id": "GNENETUbFau5",
        "outputId": "23fadda8-56a6-42da-d863-b2e8f4e34031"
      },
      "outputs": [
        {
          "data": {
            "text/plain": [
              "'hello'"
            ]
          },
          "execution_count": 21,
          "metadata": {},
          "output_type": "execute_result"
        }
      ],
      "source": [
        "x"
      ]
    },
    {
      "cell_type": "code",
      "execution_count": null,
      "metadata": {
        "id": "_n2LgqnPFau5",
        "outputId": "d19235b0-69fc-4da6-a41e-aa2d85765854"
      },
      "outputs": [
        {
          "name": "stdout",
          "output_type": "stream",
          "text": [
            "hello\n"
          ]
        }
      ],
      "source": [
        "print(x)"
      ]
    },
    {
      "cell_type": "code",
      "execution_count": null,
      "metadata": {
        "collapsed": true,
        "id": "cHF_8PiGFau6"
      },
      "outputs": [],
      "source": [
        "num = 12\n",
        "name = 'Sam'"
      ]
    },
    {
      "cell_type": "code",
      "execution_count": null,
      "metadata": {
        "id": "Snu3pQ_bFau6",
        "outputId": "1614708d-81c2-4e51-a54d-037853fbb161"
      },
      "outputs": [
        {
          "name": "stdout",
          "output_type": "stream",
          "text": [
            "My number is: 12, and my name is: Sam\n"
          ]
        }
      ],
      "source": [
        "print('My number is: {one}, and my name is: {two}'.format(one=num,two=name))"
      ]
    },
    {
      "cell_type": "code",
      "execution_count": null,
      "metadata": {
        "id": "-HLIiqaFFau6",
        "outputId": "a614fe7b-eaf3-4ec1-d937-41860fdafd44"
      },
      "outputs": [
        {
          "name": "stdout",
          "output_type": "stream",
          "text": [
            "My number is: 12, and my name is: Sam\n"
          ]
        }
      ],
      "source": [
        "print('My number is: {}, and my name is: {}'.format(num,name))"
      ]
    },
    {
      "cell_type": "markdown",
      "metadata": {
        "id": "TloZnTyYFau6"
      },
      "source": [
        "### Lists"
      ]
    },
    {
      "cell_type": "code",
      "execution_count": null,
      "metadata": {
        "id": "_IxoFBCnFau6",
        "outputId": "ddcb968e-4966-4807-d28c-aedc64d6627b"
      },
      "outputs": [
        {
          "data": {
            "text/plain": [
              "[1, 2, 3]"
            ]
          },
          "execution_count": 26,
          "metadata": {},
          "output_type": "execute_result"
        }
      ],
      "source": [
        "[1,2,3]"
      ]
    },
    {
      "cell_type": "code",
      "execution_count": null,
      "metadata": {
        "id": "Mh4u1QERFau7",
        "outputId": "de6a37cc-607e-4b30-8ab6-f8ba43d41518"
      },
      "outputs": [
        {
          "data": {
            "text/plain": [
              "['hi', 1, [1, 2]]"
            ]
          },
          "execution_count": 27,
          "metadata": {},
          "output_type": "execute_result"
        }
      ],
      "source": [
        "['hi',1,[1,2]]"
      ]
    },
    {
      "cell_type": "code",
      "execution_count": null,
      "metadata": {
        "collapsed": true,
        "id": "GmeaF4_PFau7"
      },
      "outputs": [],
      "source": [
        "my_list = ['a','b','c']"
      ]
    },
    {
      "cell_type": "code",
      "execution_count": null,
      "metadata": {
        "collapsed": true,
        "id": "y1H916MvFau7"
      },
      "outputs": [],
      "source": [
        "my_list.append('d')"
      ]
    },
    {
      "cell_type": "code",
      "execution_count": null,
      "metadata": {
        "id": "N16eKrnAFau7",
        "outputId": "f6b2b8a6-0b2b-4904-adad-d3345452a0e0"
      },
      "outputs": [
        {
          "data": {
            "text/plain": [
              "['a', 'b', 'c', 'd']"
            ]
          },
          "execution_count": 30,
          "metadata": {},
          "output_type": "execute_result"
        }
      ],
      "source": [
        "my_list"
      ]
    },
    {
      "cell_type": "code",
      "execution_count": null,
      "metadata": {
        "id": "G6h9WXwVFau7",
        "outputId": "337305f7-4dfc-41ee-b1e5-72699deb9404"
      },
      "outputs": [
        {
          "data": {
            "text/plain": [
              "'a'"
            ]
          },
          "execution_count": 31,
          "metadata": {},
          "output_type": "execute_result"
        }
      ],
      "source": [
        "my_list[0]"
      ]
    },
    {
      "cell_type": "code",
      "execution_count": null,
      "metadata": {
        "id": "uFjJidBxFau7",
        "outputId": "e5c1b5ca-e7e0-4b5a-c89c-74f4111da891"
      },
      "outputs": [
        {
          "data": {
            "text/plain": [
              "'b'"
            ]
          },
          "execution_count": 32,
          "metadata": {},
          "output_type": "execute_result"
        }
      ],
      "source": [
        "my_list[1]"
      ]
    },
    {
      "cell_type": "code",
      "execution_count": null,
      "metadata": {
        "id": "8kb8xFLNFau8",
        "outputId": "2982a9b0-224f-4090-e216-03612c6f67a9"
      },
      "outputs": [
        {
          "data": {
            "text/plain": [
              "['b', 'c', 'd']"
            ]
          },
          "execution_count": 33,
          "metadata": {},
          "output_type": "execute_result"
        }
      ],
      "source": [
        "my_list[1:]"
      ]
    },
    {
      "cell_type": "code",
      "execution_count": null,
      "metadata": {
        "id": "HEIXoFEwFau8",
        "outputId": "f7236bb6-b009-4f1c-e4e7-00d09d23bb7c"
      },
      "outputs": [
        {
          "data": {
            "text/plain": [
              "['a']"
            ]
          },
          "execution_count": 34,
          "metadata": {},
          "output_type": "execute_result"
        }
      ],
      "source": [
        "my_list[:1]"
      ]
    },
    {
      "cell_type": "code",
      "execution_count": null,
      "metadata": {
        "collapsed": true,
        "id": "HXgRevfHFau8"
      },
      "outputs": [],
      "source": [
        "my_list[0] = 'NEW'"
      ]
    },
    {
      "cell_type": "code",
      "execution_count": null,
      "metadata": {
        "id": "fzXCRdNRFau8",
        "outputId": "1f3069cb-3930-485d-eb40-a492c370374b"
      },
      "outputs": [
        {
          "data": {
            "text/plain": [
              "['NEW', 'b', 'c', 'd']"
            ]
          },
          "execution_count": 98,
          "metadata": {},
          "output_type": "execute_result"
        }
      ],
      "source": [
        "my_list"
      ]
    },
    {
      "cell_type": "code",
      "execution_count": null,
      "metadata": {
        "collapsed": true,
        "id": "PukA4-6NFau8"
      },
      "outputs": [],
      "source": [
        "nest = [1,2,3,[4,5,['target']]]"
      ]
    },
    {
      "cell_type": "code",
      "execution_count": null,
      "metadata": {
        "id": "yJizGIdtFau8",
        "outputId": "87bced90-21a3-4161-dd62-0a710698e72d"
      },
      "outputs": [
        {
          "data": {
            "text/plain": [
              "[4, 5, ['target']]"
            ]
          },
          "execution_count": 100,
          "metadata": {},
          "output_type": "execute_result"
        }
      ],
      "source": [
        "nest[3]"
      ]
    },
    {
      "cell_type": "code",
      "execution_count": null,
      "metadata": {
        "id": "MWU0f5f1FavE",
        "outputId": "19c202ab-2eb9-4187-c35c-a2f9d9cebab6"
      },
      "outputs": [
        {
          "data": {
            "text/plain": [
              "['target']"
            ]
          },
          "execution_count": 101,
          "metadata": {},
          "output_type": "execute_result"
        }
      ],
      "source": [
        "nest[3][2]"
      ]
    },
    {
      "cell_type": "code",
      "execution_count": null,
      "metadata": {
        "id": "qfUiSD7EFavF",
        "outputId": "c439e4b4-7b1e-4bad-c896-1b660981081f"
      },
      "outputs": [
        {
          "data": {
            "text/plain": [
              "'target'"
            ]
          },
          "execution_count": 102,
          "metadata": {},
          "output_type": "execute_result"
        }
      ],
      "source": [
        "nest[3][2][0]"
      ]
    },
    {
      "cell_type": "markdown",
      "metadata": {
        "id": "iZ01trEQFavF"
      },
      "source": [
        "### Dictionaries"
      ]
    },
    {
      "cell_type": "code",
      "execution_count": null,
      "metadata": {
        "collapsed": true,
        "id": "npKOsBfyFavF"
      },
      "outputs": [],
      "source": [
        "d = {'key1':'item1','key2':'item2'}"
      ]
    },
    {
      "cell_type": "code",
      "execution_count": null,
      "metadata": {
        "id": "TfTrDo3yFavF",
        "outputId": "2a14c538-55d0-43d3-9261-5c31ceafc452"
      },
      "outputs": [
        {
          "data": {
            "text/plain": [
              "{'key1': 'item1', 'key2': 'item2'}"
            ]
          },
          "execution_count": 38,
          "metadata": {},
          "output_type": "execute_result"
        }
      ],
      "source": [
        "d"
      ]
    },
    {
      "cell_type": "code",
      "execution_count": null,
      "metadata": {
        "id": "ArkCnswkFavF",
        "outputId": "1016e327-4241-4dea-87ee-e8dd661be49e"
      },
      "outputs": [
        {
          "data": {
            "text/plain": [
              "'item1'"
            ]
          },
          "execution_count": 39,
          "metadata": {},
          "output_type": "execute_result"
        }
      ],
      "source": [
        "d['key1']"
      ]
    },
    {
      "cell_type": "markdown",
      "metadata": {
        "id": "qwXf78vKFavG"
      },
      "source": [
        "### Booleans"
      ]
    },
    {
      "cell_type": "code",
      "execution_count": null,
      "metadata": {
        "id": "SfOFCtHbFavG",
        "outputId": "8f73734f-60b8-4d72-d921-ba588638c1b6"
      },
      "outputs": [
        {
          "data": {
            "text/plain": [
              "True"
            ]
          },
          "execution_count": 40,
          "metadata": {},
          "output_type": "execute_result"
        }
      ],
      "source": [
        "True"
      ]
    },
    {
      "cell_type": "code",
      "execution_count": null,
      "metadata": {
        "id": "E_znGQEgFavG",
        "outputId": "fd32320b-59a7-4937-8f3c-ac78bbadb2d9"
      },
      "outputs": [
        {
          "data": {
            "text/plain": [
              "False"
            ]
          },
          "execution_count": 41,
          "metadata": {},
          "output_type": "execute_result"
        }
      ],
      "source": [
        "False"
      ]
    },
    {
      "cell_type": "markdown",
      "metadata": {
        "id": "t_YS_W5yFavG"
      },
      "source": [
        "### Tuples"
      ]
    },
    {
      "cell_type": "code",
      "execution_count": null,
      "metadata": {
        "collapsed": true,
        "id": "Aql2uTazFavG"
      },
      "outputs": [],
      "source": [
        "t = (1,2,3)"
      ]
    },
    {
      "cell_type": "code",
      "execution_count": null,
      "metadata": {
        "id": "F50p1LTdFavH",
        "outputId": "4dee8422-67be-4cda-839f-39fb872617b9"
      },
      "outputs": [
        {
          "data": {
            "text/plain": [
              "1"
            ]
          },
          "execution_count": 43,
          "metadata": {},
          "output_type": "execute_result"
        }
      ],
      "source": [
        "t[0]"
      ]
    },
    {
      "cell_type": "code",
      "execution_count": null,
      "metadata": {
        "id": "J8kbYopoFavH",
        "outputId": "5621827f-865f-4ce3-8c4f-5ca951d445c2"
      },
      "outputs": [
        {
          "ename": "TypeError",
          "evalue": "'tuple' object does not support item assignment",
          "output_type": "error",
          "traceback": [
            "\u001b[0;31m---------------------------------------------------------------------------\u001b[0m",
            "\u001b[0;31mTypeError\u001b[0m                                 Traceback (most recent call last)",
            "\u001b[0;32m<ipython-input-44-97e4e33b36c2>\u001b[0m in \u001b[0;36m<module>\u001b[0;34m()\u001b[0m\n\u001b[0;32m----> 1\u001b[0;31m \u001b[0mt\u001b[0m\u001b[0;34m[\u001b[0m\u001b[0;36m0\u001b[0m\u001b[0;34m]\u001b[0m \u001b[0;34m=\u001b[0m \u001b[0;34m'NEW'\u001b[0m\u001b[0;34m\u001b[0m\u001b[0m\n\u001b[0m",
            "\u001b[0;31mTypeError\u001b[0m: 'tuple' object does not support item assignment"
          ]
        }
      ],
      "source": [
        "t[0] = 'NEW'"
      ]
    },
    {
      "cell_type": "markdown",
      "metadata": {
        "id": "zt0lqlXQFavH"
      },
      "source": [
        "### Sets"
      ]
    },
    {
      "cell_type": "code",
      "execution_count": null,
      "metadata": {
        "id": "PEeYLZCQFavH",
        "outputId": "683e8e56-e3af-4b96-e9cf-7fc435c82b2f"
      },
      "outputs": [
        {
          "data": {
            "text/plain": [
              "{1, 2, 3}"
            ]
          },
          "execution_count": 45,
          "metadata": {},
          "output_type": "execute_result"
        }
      ],
      "source": [
        "{1,2,3}"
      ]
    },
    {
      "cell_type": "code",
      "execution_count": null,
      "metadata": {
        "id": "XeKI2sLJFavH",
        "outputId": "9f31405e-af72-4449-fa44-62f8d8d1f42d"
      },
      "outputs": [
        {
          "data": {
            "text/plain": [
              "{1, 2, 3}"
            ]
          },
          "execution_count": 46,
          "metadata": {},
          "output_type": "execute_result"
        }
      ],
      "source": [
        "{1,2,3,1,2,1,2,3,3,3,3,2,2,2,1,1,2}"
      ]
    },
    {
      "cell_type": "markdown",
      "metadata": {
        "id": "KAA0dthjFavI"
      },
      "source": [
        "## Comparison Operators"
      ]
    },
    {
      "cell_type": "code",
      "execution_count": null,
      "metadata": {
        "id": "R5h_29ydFavI",
        "outputId": "68894733-5bd2-4460-aa37-5ea9d9c670c3"
      },
      "outputs": [
        {
          "data": {
            "text/plain": [
              "False"
            ]
          },
          "execution_count": 47,
          "metadata": {},
          "output_type": "execute_result"
        }
      ],
      "source": [
        "1 > 2"
      ]
    },
    {
      "cell_type": "code",
      "execution_count": null,
      "metadata": {
        "id": "jYC5c3egFavL",
        "outputId": "e205754a-37f3-462f-f1f8-0926d3f49dfa"
      },
      "outputs": [
        {
          "data": {
            "text/plain": [
              "True"
            ]
          },
          "execution_count": 48,
          "metadata": {},
          "output_type": "execute_result"
        }
      ],
      "source": [
        "1 < 2"
      ]
    },
    {
      "cell_type": "code",
      "execution_count": null,
      "metadata": {
        "id": "BNnOKNPuFavL",
        "outputId": "4ad6ef57-7243-4dc3-a482-f03254b56c2d"
      },
      "outputs": [
        {
          "data": {
            "text/plain": [
              "True"
            ]
          },
          "execution_count": 49,
          "metadata": {},
          "output_type": "execute_result"
        }
      ],
      "source": [
        "1 >= 1"
      ]
    },
    {
      "cell_type": "code",
      "execution_count": null,
      "metadata": {
        "id": "v19p6Y7aFavM",
        "outputId": "7e445bb8-3b91-4f90-c018-f8362eeae475"
      },
      "outputs": [
        {
          "data": {
            "text/plain": [
              "True"
            ]
          },
          "execution_count": 50,
          "metadata": {},
          "output_type": "execute_result"
        }
      ],
      "source": [
        "1 <= 4"
      ]
    },
    {
      "cell_type": "code",
      "execution_count": null,
      "metadata": {
        "id": "OnClx_NWFavM",
        "outputId": "e2838b3c-7092-45b1-ea11-a7876e91f45e"
      },
      "outputs": [
        {
          "data": {
            "text/plain": [
              "True"
            ]
          },
          "execution_count": 51,
          "metadata": {},
          "output_type": "execute_result"
        }
      ],
      "source": [
        "1 == 1"
      ]
    },
    {
      "cell_type": "code",
      "execution_count": null,
      "metadata": {
        "id": "0WGC-eo0FavM",
        "outputId": "cd646d85-c045-4ba3-e7c5-50d372e83376"
      },
      "outputs": [
        {
          "data": {
            "text/plain": [
              "False"
            ]
          },
          "execution_count": 52,
          "metadata": {},
          "output_type": "execute_result"
        }
      ],
      "source": [
        "'hi' == 'bye'"
      ]
    },
    {
      "cell_type": "markdown",
      "metadata": {
        "id": "6U_2e8I7FavM"
      },
      "source": [
        "## Logic Operators"
      ]
    },
    {
      "cell_type": "code",
      "execution_count": null,
      "metadata": {
        "id": "j9-8tUn7FavN",
        "outputId": "673ed33e-f94f-409e-e373-c8526af3d843"
      },
      "outputs": [
        {
          "data": {
            "text/plain": [
              "False"
            ]
          },
          "execution_count": 53,
          "metadata": {},
          "output_type": "execute_result"
        }
      ],
      "source": [
        "(1 > 2) and (2 < 3)"
      ]
    },
    {
      "cell_type": "code",
      "execution_count": null,
      "metadata": {
        "id": "6E-Z1LlhFavN",
        "outputId": "834ae7cb-2c7d-40cb-ff39-71e9cf51c814"
      },
      "outputs": [
        {
          "data": {
            "text/plain": [
              "True"
            ]
          },
          "execution_count": 54,
          "metadata": {},
          "output_type": "execute_result"
        }
      ],
      "source": [
        "(1 > 2) or (2 < 3)"
      ]
    },
    {
      "cell_type": "code",
      "execution_count": null,
      "metadata": {
        "id": "u4LpTHpOFavN",
        "outputId": "77f4586a-6fb4-4605-bc19-24ffcba3e3da"
      },
      "outputs": [
        {
          "data": {
            "text/plain": [
              "True"
            ]
          },
          "execution_count": 55,
          "metadata": {},
          "output_type": "execute_result"
        }
      ],
      "source": [
        "(1 == 2) or (2 == 3) or (4 == 4)"
      ]
    },
    {
      "cell_type": "markdown",
      "metadata": {
        "id": "-oznzQ54FavN"
      },
      "source": [
        "## if,elif, else Statements"
      ]
    },
    {
      "cell_type": "code",
      "execution_count": null,
      "metadata": {
        "id": "KsBiOIp1FavN",
        "outputId": "17432f78-8aba-4a3e-c65e-d323a80777b1"
      },
      "outputs": [
        {
          "name": "stdout",
          "output_type": "stream",
          "text": [
            "Yep!\n"
          ]
        }
      ],
      "source": [
        "if 1 < 2:\n",
        "    print('Yep!')"
      ]
    },
    {
      "cell_type": "code",
      "execution_count": null,
      "metadata": {
        "id": "QNOA8osOFavO",
        "outputId": "fed83b36-8a7e-433e-a91c-0cc50c69a9da"
      },
      "outputs": [
        {
          "name": "stdout",
          "output_type": "stream",
          "text": [
            "yep!\n"
          ]
        }
      ],
      "source": [
        "if 1 < 2:\n",
        "    print('yep!')"
      ]
    },
    {
      "cell_type": "code",
      "execution_count": null,
      "metadata": {
        "id": "BY4WjugTFavO",
        "outputId": "f7247a10-fd3a-4b96-b8f0-1e778b4d6970"
      },
      "outputs": [
        {
          "name": "stdout",
          "output_type": "stream",
          "text": [
            "first\n"
          ]
        }
      ],
      "source": [
        "if 1 < 2:\n",
        "    print('first')\n",
        "else:\n",
        "    print('last')"
      ]
    },
    {
      "cell_type": "code",
      "execution_count": null,
      "metadata": {
        "id": "5PhP7EP2FavO",
        "outputId": "8c7f45a1-be70-431f-a22d-b3b958412b09"
      },
      "outputs": [
        {
          "name": "stdout",
          "output_type": "stream",
          "text": [
            "last\n"
          ]
        }
      ],
      "source": [
        "if 1 > 2:\n",
        "    print('first')\n",
        "else:\n",
        "    print('last')"
      ]
    },
    {
      "cell_type": "code",
      "execution_count": null,
      "metadata": {
        "id": "g9psA6_3FavO",
        "outputId": "d9eae431-6464-44a3-e586-51d897ce428d"
      },
      "outputs": [
        {
          "name": "stdout",
          "output_type": "stream",
          "text": [
            "middle\n"
          ]
        }
      ],
      "source": [
        "if 1 == 2:\n",
        "    print('first')\n",
        "elif 3 == 3:\n",
        "    print('middle')\n",
        "else:\n",
        "    print('Last')"
      ]
    },
    {
      "cell_type": "markdown",
      "metadata": {
        "id": "clD8RhuwFavP"
      },
      "source": [
        "## for Loops"
      ]
    },
    {
      "cell_type": "code",
      "execution_count": null,
      "metadata": {
        "id": "ODMA3XXaFavP"
      },
      "outputs": [],
      "source": [
        "seq = [1,2,3,4,5]"
      ]
    },
    {
      "cell_type": "code",
      "execution_count": null,
      "metadata": {
        "id": "U_SzRspGFavP",
        "outputId": "bf88b1b0-1eaf-4484-a857-06cc730fd704"
      },
      "outputs": [
        {
          "name": "stdout",
          "output_type": "stream",
          "text": [
            "1\n",
            "2\n",
            "3\n",
            "4\n",
            "5\n"
          ]
        }
      ],
      "source": [
        "for item in seq:\n",
        "    print(item)"
      ]
    },
    {
      "cell_type": "code",
      "execution_count": null,
      "metadata": {
        "id": "er8KoRHZFavP",
        "outputId": "63cbe797-2227-4a0c-e790-82735a8a4a12"
      },
      "outputs": [
        {
          "name": "stdout",
          "output_type": "stream",
          "text": [
            "Yep\n",
            "Yep\n",
            "Yep\n",
            "Yep\n",
            "Yep\n"
          ]
        }
      ],
      "source": [
        "for item in seq:\n",
        "    print('Yep')"
      ]
    },
    {
      "cell_type": "code",
      "execution_count": null,
      "metadata": {
        "id": "ROpkIwWPFavQ",
        "outputId": "6c6dbcd4-228a-4ba4-875d-8a6c94d89ed7"
      },
      "outputs": [
        {
          "name": "stdout",
          "output_type": "stream",
          "text": [
            "2\n",
            "4\n",
            "6\n",
            "8\n",
            "10\n"
          ]
        }
      ],
      "source": [
        "for jelly in seq:\n",
        "    print(jelly+jelly)"
      ]
    },
    {
      "cell_type": "markdown",
      "metadata": {
        "id": "9eoomQUBFavQ"
      },
      "source": [
        "## while Loops"
      ]
    },
    {
      "cell_type": "code",
      "execution_count": null,
      "metadata": {
        "id": "OINJ8wm0FavQ",
        "outputId": "1f832f9f-b93e-4ba8-9eb9-c08a4772f322"
      },
      "outputs": [
        {
          "name": "stdout",
          "output_type": "stream",
          "text": [
            "i is: 1\n",
            "i is: 2\n",
            "i is: 3\n",
            "i is: 4\n"
          ]
        }
      ],
      "source": [
        "i = 1\n",
        "while i < 5:\n",
        "    print('i is: {}'.format(i))\n",
        "    i = i+1"
      ]
    },
    {
      "cell_type": "markdown",
      "metadata": {
        "id": "ar5j500CFavQ"
      },
      "source": [
        "## range()"
      ]
    },
    {
      "cell_type": "code",
      "execution_count": null,
      "metadata": {
        "id": "og-FVFqzFavQ",
        "outputId": "78db7736-279c-4014-eb5e-507012dc4927"
      },
      "outputs": [
        {
          "data": {
            "text/plain": [
              "range(0, 5)"
            ]
          },
          "execution_count": 66,
          "metadata": {},
          "output_type": "execute_result"
        }
      ],
      "source": [
        "range(5)"
      ]
    },
    {
      "cell_type": "code",
      "execution_count": null,
      "metadata": {
        "id": "ldhwAfNyFavR",
        "outputId": "4e456af6-df35-4eb8-8d9d-a1220992892e"
      },
      "outputs": [
        {
          "name": "stdout",
          "output_type": "stream",
          "text": [
            "0\n",
            "1\n",
            "2\n",
            "3\n",
            "4\n"
          ]
        }
      ],
      "source": [
        "for i in range(5):\n",
        "    print(i)"
      ]
    },
    {
      "cell_type": "code",
      "execution_count": null,
      "metadata": {
        "id": "dFGHDcnrFavR",
        "outputId": "7abde9da-9c40-428e-9f60-29426a8b725c"
      },
      "outputs": [
        {
          "data": {
            "text/plain": [
              "[0, 1, 2, 3, 4]"
            ]
          },
          "execution_count": 68,
          "metadata": {},
          "output_type": "execute_result"
        }
      ],
      "source": [
        "list(range(5))"
      ]
    },
    {
      "cell_type": "markdown",
      "metadata": {
        "id": "AuomQqTBFavR"
      },
      "source": [
        "## list comprehension"
      ]
    },
    {
      "cell_type": "code",
      "execution_count": null,
      "metadata": {
        "collapsed": true,
        "id": "gjVmOHRWFavR"
      },
      "outputs": [],
      "source": [
        "x = [1,2,3,4]"
      ]
    },
    {
      "cell_type": "code",
      "execution_count": null,
      "metadata": {
        "id": "NFOq3iCpFavR",
        "outputId": "492f5fc7-8f4f-4156-8feb-6fd832e99509"
      },
      "outputs": [
        {
          "name": "stdout",
          "output_type": "stream",
          "text": [
            "[1, 4, 9, 16]\n"
          ]
        }
      ],
      "source": [
        "out = []\n",
        "for item in x:\n",
        "    out.append(item**2)\n",
        "print(out)"
      ]
    },
    {
      "cell_type": "code",
      "execution_count": null,
      "metadata": {
        "id": "NZD05fpOFavR",
        "outputId": "a918edfd-4823-4d58-ecaf-22392256c40c"
      },
      "outputs": [
        {
          "data": {
            "text/plain": [
              "[1, 4, 9, 16]"
            ]
          },
          "execution_count": 71,
          "metadata": {},
          "output_type": "execute_result"
        }
      ],
      "source": [
        "[item**2 for item in x]"
      ]
    },
    {
      "cell_type": "markdown",
      "metadata": {
        "id": "VVPeYg13FavS"
      },
      "source": [
        "## functions"
      ]
    },
    {
      "cell_type": "code",
      "execution_count": null,
      "metadata": {
        "collapsed": true,
        "id": "NCj8VMsFFavS"
      },
      "outputs": [],
      "source": [
        "def my_func(param1='default'):\n",
        "    \"\"\"\n",
        "    Docstring goes here.\n",
        "    \"\"\"\n",
        "    print(param1)"
      ]
    },
    {
      "cell_type": "code",
      "execution_count": null,
      "metadata": {
        "id": "swmdm2IxFavS",
        "outputId": "bb6fe3e7-e155-4d10-b630-d66107fc2d5b"
      },
      "outputs": [
        {
          "data": {
            "text/plain": [
              "<function __main__.my_func>"
            ]
          },
          "execution_count": 73,
          "metadata": {},
          "output_type": "execute_result"
        }
      ],
      "source": [
        "my_func"
      ]
    },
    {
      "cell_type": "code",
      "execution_count": null,
      "metadata": {
        "id": "MXF89uiaFavS",
        "outputId": "14506975-ba5f-48a4-aae9-d3211d8df340"
      },
      "outputs": [
        {
          "name": "stdout",
          "output_type": "stream",
          "text": [
            "default\n"
          ]
        }
      ],
      "source": [
        "my_func()"
      ]
    },
    {
      "cell_type": "code",
      "execution_count": null,
      "metadata": {
        "id": "4c9oiCbDFavS",
        "outputId": "02844e72-8170-40f6-84e5-8b111a308a0b"
      },
      "outputs": [
        {
          "name": "stdout",
          "output_type": "stream",
          "text": [
            "new param\n"
          ]
        }
      ],
      "source": [
        "my_func('new param')"
      ]
    },
    {
      "cell_type": "code",
      "execution_count": null,
      "metadata": {
        "id": "9uhGOcsWFavT",
        "outputId": "3d7a637d-f4b8-43ed-e82c-0459171b7c00"
      },
      "outputs": [
        {
          "name": "stdout",
          "output_type": "stream",
          "text": [
            "new param\n"
          ]
        }
      ],
      "source": [
        "my_func(param1='new param')"
      ]
    },
    {
      "cell_type": "code",
      "execution_count": null,
      "metadata": {
        "collapsed": true,
        "id": "Ho4Rh8AXFavT"
      },
      "outputs": [],
      "source": [
        "def square(x):\n",
        "    return x**2"
      ]
    },
    {
      "cell_type": "code",
      "execution_count": null,
      "metadata": {
        "collapsed": true,
        "id": "Wa-ExbLSFavT"
      },
      "outputs": [],
      "source": [
        "out = square(2)"
      ]
    },
    {
      "cell_type": "code",
      "execution_count": null,
      "metadata": {
        "scrolled": true,
        "id": "NPRk6CApFavT",
        "outputId": "1125f8e6-68aa-436c-d746-216e6a51c315"
      },
      "outputs": [
        {
          "name": "stdout",
          "output_type": "stream",
          "text": [
            "4\n"
          ]
        }
      ],
      "source": [
        "print(out)"
      ]
    },
    {
      "cell_type": "markdown",
      "metadata": {
        "id": "zHzZLaNKFavT"
      },
      "source": [
        "## lambda expressions"
      ]
    },
    {
      "cell_type": "code",
      "execution_count": null,
      "metadata": {
        "collapsed": true,
        "id": "7yUboG12FavT"
      },
      "outputs": [],
      "source": [
        "def times2(var):\n",
        "    return var*2"
      ]
    },
    {
      "cell_type": "code",
      "execution_count": null,
      "metadata": {
        "id": "uOp7MgS_FavU",
        "outputId": "7209ff81-014c-485d-9bda-d9a0b881bbff"
      },
      "outputs": [
        {
          "data": {
            "text/plain": [
              "4"
            ]
          },
          "execution_count": 81,
          "metadata": {},
          "output_type": "execute_result"
        }
      ],
      "source": [
        "times2(2)"
      ]
    },
    {
      "cell_type": "code",
      "execution_count": null,
      "metadata": {
        "id": "_viqU9ztFavU",
        "outputId": "c091d2dd-299f-42d7-d0a8-c1aa0456027f"
      },
      "outputs": [
        {
          "data": {
            "text/plain": [
              "<function __main__.<lambda>>"
            ]
          },
          "execution_count": 82,
          "metadata": {},
          "output_type": "execute_result"
        }
      ],
      "source": [
        "lambda var: var*2"
      ]
    },
    {
      "cell_type": "markdown",
      "metadata": {
        "id": "JZ2iEUPlFavU"
      },
      "source": [
        "## map and filter"
      ]
    },
    {
      "cell_type": "code",
      "execution_count": null,
      "metadata": {
        "collapsed": true,
        "id": "08aXLZL-FavU"
      },
      "outputs": [],
      "source": [
        "seq = [1,2,3,4,5]"
      ]
    },
    {
      "cell_type": "code",
      "execution_count": null,
      "metadata": {
        "id": "ZpGAJWkUFavU",
        "outputId": "5b14c281-5f9a-4234-a46f-2a1e6f0d48c7"
      },
      "outputs": [
        {
          "data": {
            "text/plain": [
              "<map at 0x105316748>"
            ]
          },
          "execution_count": 84,
          "metadata": {},
          "output_type": "execute_result"
        }
      ],
      "source": [
        "map(times2,seq)"
      ]
    },
    {
      "cell_type": "code",
      "execution_count": null,
      "metadata": {
        "id": "hJBeOvShFavU",
        "outputId": "3f5782be-e535-4621-9fb5-4b3060954bcd"
      },
      "outputs": [
        {
          "data": {
            "text/plain": [
              "[2, 4, 6, 8, 10]"
            ]
          },
          "execution_count": 85,
          "metadata": {},
          "output_type": "execute_result"
        }
      ],
      "source": [
        "list(map(times2,seq))"
      ]
    },
    {
      "cell_type": "code",
      "execution_count": null,
      "metadata": {
        "id": "Afz3QpJQFavV",
        "outputId": "00361b5c-ffed-4660-82c7-7af606cb1524"
      },
      "outputs": [
        {
          "data": {
            "text/plain": [
              "[2, 4, 6, 8, 10]"
            ]
          },
          "execution_count": 86,
          "metadata": {},
          "output_type": "execute_result"
        }
      ],
      "source": [
        "list(map(lambda var: var*2,seq))"
      ]
    },
    {
      "cell_type": "code",
      "execution_count": null,
      "metadata": {
        "id": "wotcUSCsFavV",
        "outputId": "55c17d8b-6242-4e40-bb30-5ec9f78a2ea4"
      },
      "outputs": [
        {
          "data": {
            "text/plain": [
              "<filter at 0x105316ac8>"
            ]
          },
          "execution_count": 87,
          "metadata": {},
          "output_type": "execute_result"
        }
      ],
      "source": [
        "filter(lambda item: item%2 == 0,seq)"
      ]
    },
    {
      "cell_type": "code",
      "execution_count": null,
      "metadata": {
        "id": "l-J5YeM_FavV",
        "outputId": "003b7279-9584-4c81-a1a5-7a25d3d3f284"
      },
      "outputs": [
        {
          "data": {
            "text/plain": [
              "[2, 4]"
            ]
          },
          "execution_count": 88,
          "metadata": {},
          "output_type": "execute_result"
        }
      ],
      "source": [
        "list(filter(lambda item: item%2 == 0,seq))"
      ]
    },
    {
      "cell_type": "markdown",
      "metadata": {
        "id": "GX2OceMiFavV"
      },
      "source": [
        "## methods"
      ]
    },
    {
      "cell_type": "code",
      "execution_count": null,
      "metadata": {
        "collapsed": true,
        "id": "KfshlpK5FavW"
      },
      "outputs": [],
      "source": [
        "st = 'hello my name is Sam'"
      ]
    },
    {
      "cell_type": "code",
      "execution_count": null,
      "metadata": {
        "id": "9u4shEjMFavW",
        "outputId": "07077a1a-ef43-4ce6-dd02-cb81b7dfbb92"
      },
      "outputs": [
        {
          "data": {
            "text/plain": [
              "'hello my name is sam'"
            ]
          },
          "execution_count": 112,
          "metadata": {},
          "output_type": "execute_result"
        }
      ],
      "source": [
        "st.lower()"
      ]
    },
    {
      "cell_type": "code",
      "execution_count": null,
      "metadata": {
        "id": "jDpB4_P3FavW",
        "outputId": "dd6030a8-1a27-4fde-b016-8f653fdac436"
      },
      "outputs": [
        {
          "data": {
            "text/plain": [
              "'HELLO MY NAME IS SAM'"
            ]
          },
          "execution_count": 113,
          "metadata": {},
          "output_type": "execute_result"
        }
      ],
      "source": [
        "st.upper()"
      ]
    },
    {
      "cell_type": "code",
      "execution_count": null,
      "metadata": {
        "id": "QPwEC78NFavW",
        "outputId": "82df624e-6403-4f5f-b85b-047f59aa3958"
      },
      "outputs": [
        {
          "data": {
            "text/plain": [
              "['hello', 'my', 'name', 'is', 'Sam']"
            ]
          },
          "execution_count": 103,
          "metadata": {},
          "output_type": "execute_result"
        }
      ],
      "source": [
        "st.split()"
      ]
    },
    {
      "cell_type": "code",
      "execution_count": null,
      "metadata": {
        "collapsed": true,
        "id": "qoxs8uvvFavW"
      },
      "outputs": [],
      "source": [
        "tweet = 'Go Sports! #Sports'"
      ]
    },
    {
      "cell_type": "code",
      "execution_count": null,
      "metadata": {
        "id": "gn3vFWnvFavX",
        "outputId": "94371513-896d-4d76-8fc7-dc171e4a4ec8"
      },
      "outputs": [
        {
          "data": {
            "text/plain": [
              "['Go Sports! ', 'Sports']"
            ]
          },
          "execution_count": 106,
          "metadata": {},
          "output_type": "execute_result"
        }
      ],
      "source": [
        "tweet.split('#')"
      ]
    },
    {
      "cell_type": "code",
      "execution_count": null,
      "metadata": {
        "id": "A_CXKij_FavX",
        "outputId": "739b7d05-0689-4fa0-9397-8fb93e2917e9"
      },
      "outputs": [
        {
          "data": {
            "text/plain": [
              "'Sports'"
            ]
          },
          "execution_count": 107,
          "metadata": {},
          "output_type": "execute_result"
        }
      ],
      "source": [
        "tweet.split('#')[1]"
      ]
    },
    {
      "cell_type": "code",
      "execution_count": null,
      "metadata": {
        "id": "eRHqpNX5FavX",
        "outputId": "c126e773-df2c-460b-939b-c5f9e11bff31"
      },
      "outputs": [
        {
          "data": {
            "text/plain": [
              "{'key1': 'item1', 'key2': 'item2'}"
            ]
          },
          "execution_count": 92,
          "metadata": {},
          "output_type": "execute_result"
        }
      ],
      "source": [
        "d"
      ]
    },
    {
      "cell_type": "code",
      "execution_count": null,
      "metadata": {
        "id": "tGfotRk7FavX",
        "outputId": "0c8c0d9e-d9eb-40d5-85a6-8d061638cef1"
      },
      "outputs": [
        {
          "data": {
            "text/plain": [
              "dict_keys(['key2', 'key1'])"
            ]
          },
          "execution_count": 93,
          "metadata": {},
          "output_type": "execute_result"
        }
      ],
      "source": [
        "d.keys()"
      ]
    },
    {
      "cell_type": "code",
      "execution_count": null,
      "metadata": {
        "id": "18BDX8W8FavX",
        "outputId": "c319cee5-1cb2-41e6-d50c-806b9cd129bf"
      },
      "outputs": [
        {
          "data": {
            "text/plain": [
              "dict_items([('key2', 'item2'), ('key1', 'item1')])"
            ]
          },
          "execution_count": 94,
          "metadata": {},
          "output_type": "execute_result"
        }
      ],
      "source": [
        "d.items()"
      ]
    },
    {
      "cell_type": "code",
      "execution_count": null,
      "metadata": {
        "collapsed": true,
        "id": "QXaUS4_OFavX"
      },
      "outputs": [],
      "source": [
        "lst = [1,2,3]"
      ]
    },
    {
      "cell_type": "code",
      "execution_count": null,
      "metadata": {
        "id": "ZHFmp4MgFavY",
        "outputId": "e9befb75-0443-4052-b539-d8c83c80660a"
      },
      "outputs": [
        {
          "data": {
            "text/plain": [
              "3"
            ]
          },
          "execution_count": 96,
          "metadata": {},
          "output_type": "execute_result"
        }
      ],
      "source": [
        "lst.pop()"
      ]
    },
    {
      "cell_type": "code",
      "execution_count": null,
      "metadata": {
        "id": "UxzIiXB8FavY",
        "outputId": "d8722d92-fa26-496b-ebc6-6d9f2dbd2aa3"
      },
      "outputs": [
        {
          "data": {
            "text/plain": [
              "[1, 2]"
            ]
          },
          "execution_count": 108,
          "metadata": {},
          "output_type": "execute_result"
        }
      ],
      "source": [
        "lst"
      ]
    },
    {
      "cell_type": "code",
      "execution_count": null,
      "metadata": {
        "id": "5Imtc_3YFavY",
        "outputId": "e4a2e611-74b3-4969-ec47-3f1df3f3f8ef"
      },
      "outputs": [
        {
          "data": {
            "text/plain": [
              "False"
            ]
          },
          "execution_count": 109,
          "metadata": {},
          "output_type": "execute_result"
        }
      ],
      "source": [
        "'x' in [1,2,3]"
      ]
    },
    {
      "cell_type": "code",
      "execution_count": null,
      "metadata": {
        "id": "OBAH8IRxFavY",
        "outputId": "d1c99884-9c04-4926-b5df-be3fa5e19bbb"
      },
      "outputs": [
        {
          "data": {
            "text/plain": [
              "True"
            ]
          },
          "execution_count": 110,
          "metadata": {},
          "output_type": "execute_result"
        }
      ],
      "source": [
        "'x' in ['x','y','z']"
      ]
    },
    {
      "cell_type": "markdown",
      "metadata": {
        "id": "a_iFTlc2FavY"
      },
      "source": [
        "# Great Job!"
      ]
    }
  ],
  "metadata": {
    "kernelspec": {
      "display_name": "Python 3",
      "language": "python",
      "name": "python3"
    },
    "language_info": {
      "codemirror_mode": {
        "name": "ipython",
        "version": 3
      },
      "file_extension": ".py",
      "mimetype": "text/x-python",
      "name": "python",
      "nbconvert_exporter": "python",
      "pygments_lexer": "ipython3",
      "version": "3.6.2"
    },
    "colab": {
      "provenance": [],
      "include_colab_link": true
    }
  },
  "nbformat": 4,
  "nbformat_minor": 0
}